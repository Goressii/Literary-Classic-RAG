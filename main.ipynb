{
  "cells": [
    {
      "cell_type": "markdown",
      "metadata": {
        "id": "P9zYNPu-p9l3"
      },
      "source": [
        "# 📚 Литературный RAG"
      ]
    },
    {
      "cell_type": "markdown",
      "metadata": {
        "id": "qUPjzBEMuQM1"
      },
      "source": [
        "# Описание решения"
      ]
    },
    {
      "cell_type": "markdown",
      "metadata": {
        "id": "zxZsqj-mRQnl"
      },
      "source": [
        "#### 1. Данные"
      ]
    },
    {
      "cell_type": "markdown",
      "metadata": {
        "id": "tn25c_bERZoZ"
      },
      "source": [
        "\n",
        "*   RAG реализован для поиска по краткому содержанию романа А.С. Пушкина «Капитанская дочка»;\n",
        "*   Для загрузки рассказа из формата PDF использован PyPDFLoader;\n",
        "*   Далее текст очищается с помощью регулярных выражений от ссылок, лишних пробелов и дефисов, форматируются переносы слов на другую строку.\n"
      ]
    },
    {
      "cell_type": "markdown",
      "metadata": {
        "id": "bGKtEyVjWZRh"
      },
      "source": [
        "#### 2. Эмбеддинг модель"
      ]
    },
    {
      "cell_type": "markdown",
      "metadata": {
        "id": "uzpxmpFq--7N"
      },
      "source": [
        "*   Попробовал разные эмбеддинг модели, лучше всего себя показала `cointegrated/LaBSE-en-ru` из HuggingFace: она достаточно легкая (влезает даже на видеокарту с 1 гб видеопамяти), хорошо работает на русскоязычных и англоязычных текстах, имеет размер эмбеддинга 768. Модель работает быстро, острой необходимости в GPU нет, поэтому в этой работе использовал CPU."
      ]
    },
    {
      "cell_type": "markdown",
      "metadata": {
        "id": "LZ1SFg6gUaeX"
      },
      "source": [
        "#### 3. Чанкинг"
      ]
    },
    {
      "cell_type": "markdown",
      "metadata": {
        "id": "lbgvk4xiUeUl"
      },
      "source": [
        "*   Для начала, текст разделяется по главам кастомным сплиттером;\n",
        "*   Далее, семантический сплиттер, использующий модель `LaBSE-en-ru`, разбивает каждую главу на чанки, учитывая контекст;\n",
        "\n",
        "P.S. В изначальном решении использовал рекурсивный сплиттер, но с ним качество оказалось хуже."
      ]
    },
    {
      "cell_type": "markdown",
      "metadata": {
        "id": "QItXAS6pXvjv"
      },
      "source": [
        "#### 4. Векторное хранилище"
      ]
    },
    {
      "cell_type": "markdown",
      "metadata": {
        "id": "MISHH7hHX39I"
      },
      "source": [
        "*  Выбор пал на FAISS- фрейворк от одной известной экстремисткой организациии;\n",
        "*   Для векторизации чанков также используется модель `cointegrated/LaBSE-en-ru`."
      ]
    },
    {
      "cell_type": "markdown",
      "metadata": {
        "id": "2r0dx759Yxgp"
      },
      "source": [
        "#### 5. Retriever"
      ]
    },
    {
      "cell_type": "markdown",
      "metadata": {
        "id": "ksmhqDwcZQ2L"
      },
      "source": [
        "*   Используется ретривер встроенный в FAISS- \"similarity\";\n",
        "*   \"MMR\" в данном случае не дал прироста качества, поэтому оставил дефолтный;\n",
        "*   Также, можно было бы использовать ансамбль ретриверов и добавить, к примеру, BM25, который тоже хорошо работает в данном случае (особенно при полном совпадении слов), однако и без этого качество отличное."
      ]
    },
    {
      "cell_type": "markdown",
      "metadata": {
        "id": "eZ2NNJfwghZD"
      },
      "source": [
        "#### 6. LLM"
      ]
    },
    {
      "cell_type": "markdown",
      "metadata": {
        "id": "MC45xlYNuUqu"
      },
      "source": [
        "*   В качестве языковой модели для генерации финального ответа используется GPT 3.5-turbo;\n",
        "*   Тут можно было бы развернуть квантизованную llm используя transformers, благо колаб выделяет GPU, но у меня был сгорающий API-токен, поэтому решил добить его :)"
      ]
    },
    {
      "cell_type": "markdown",
      "metadata": {
        "id": "0AJs7a1jhX7K"
      },
      "source": [
        "# Установка и импорт необходимых библиотек"
      ]
    },
    {
      "cell_type": "code",
      "execution_count": null,
      "metadata": {
        "colab": {
          "base_uri": "https://localhost:8080/"
        },
        "id": "Yk-K_mHMs7ns",
        "outputId": "2f3855a0-8e23-45ea-fc5d-7f3b7b306d97"
      },
      "outputs": [
        {
          "name": "stdout",
          "output_type": "stream",
          "text": [
            "\u001b[?25l     \u001b[90m━━━━━━━━━━━━━━━━━━━━━━━━━━━━━━━━━━━━━━━━\u001b[0m \u001b[32m0.0/4.2 MB\u001b[0m \u001b[31m?\u001b[0m eta \u001b[36m-:--:--\u001b[0m\r\u001b[2K     \u001b[91m━━━━\u001b[0m\u001b[91m╸\u001b[0m\u001b[90m━━━━━━━━━━━━━━━━━━━━━━━━━━━━━━━━━━━\u001b[0m \u001b[32m0.5/4.2 MB\u001b[0m \u001b[31m15.2 MB/s\u001b[0m eta \u001b[36m0:00:01\u001b[0m\r\u001b[2K     \u001b[91m━━━━━━━━━━━━━━━━━━━━━━━━━━━━━\u001b[0m\u001b[91m╸\u001b[0m\u001b[90m━━━━━━━━━━\u001b[0m \u001b[32m3.1/4.2 MB\u001b[0m \u001b[31m44.7 MB/s\u001b[0m eta \u001b[36m0:00:01\u001b[0m\r\u001b[2K     \u001b[91m━━━━━━━━━━━━━━━━━━━━━━━━━━━━━━━━━━━━━━━\u001b[0m\u001b[91m╸\u001b[0m \u001b[32m4.2/4.2 MB\u001b[0m \u001b[31m53.0 MB/s\u001b[0m eta \u001b[36m0:00:01\u001b[0m\r\u001b[2K     \u001b[90m━━━━━━━━━━━━━━━━━━━━━━━━━━━━━━━━━━━━━━━━\u001b[0m \u001b[32m4.2/4.2 MB\u001b[0m \u001b[31m37.4 MB/s\u001b[0m eta \u001b[36m0:00:00\u001b[0m\n",
            "\u001b[?25h  Preparing metadata (setup.py) ... \u001b[?25l\u001b[?25hdone\n",
            "\u001b[2K     \u001b[90m━━━━━━━━━━━━━━━━━━━━━━━━━━━━━━━━━━━━━━━━\u001b[0m \u001b[32m981.5/981.5 kB\u001b[0m \u001b[31m41.0 MB/s\u001b[0m eta \u001b[36m0:00:00\u001b[0m\n",
            "\u001b[?25h  Preparing metadata (setup.py) ... \u001b[?25l\u001b[?25hdone\n",
            "\u001b[2K     \u001b[90m━━━━━━━━━━━━━━━━━━━━━━━━━━━━━━━━━━━━━━━━\u001b[0m \u001b[32m50.4/50.4 kB\u001b[0m \u001b[31m2.9 MB/s\u001b[0m eta \u001b[36m0:00:00\u001b[0m\n",
            "\u001b[2K   \u001b[90m━━━━━━━━━━━━━━━━━━━━━━━━━━━━━━━━━━━━━━━━\u001b[0m \u001b[32m383.7/383.7 kB\u001b[0m \u001b[31m22.5 MB/s\u001b[0m eta \u001b[36m0:00:00\u001b[0m\n",
            "\u001b[2K   \u001b[90m━━━━━━━━━━━━━━━━━━━━━━━━━━━━━━━━━━━━━━━━\u001b[0m \u001b[32m1.0/1.0 MB\u001b[0m \u001b[31m43.1 MB/s\u001b[0m eta \u001b[36m0:00:00\u001b[0m\n",
            "\u001b[2K   \u001b[90m━━━━━━━━━━━━━━━━━━━━━━━━━━━━━━━━━━━━━━━━\u001b[0m \u001b[32m1.2/1.2 MB\u001b[0m \u001b[31m43.8 MB/s\u001b[0m eta \u001b[36m0:00:00\u001b[0m\n",
            "\u001b[2K   \u001b[90m━━━━━━━━━━━━━━━━━━━━━━━━━━━━━━━━━━━━━━━━\u001b[0m \u001b[32m49.7/49.7 kB\u001b[0m \u001b[31m3.1 MB/s\u001b[0m eta \u001b[36m0:00:00\u001b[0m\n",
            "\u001b[2K   \u001b[90m━━━━━━━━━━━━━━━━━━━━━━━━━━━━━━━━━━━━━━━━\u001b[0m \u001b[32m2.4/2.4 MB\u001b[0m \u001b[31m61.7 MB/s\u001b[0m eta \u001b[36m0:00:00\u001b[0m\n",
            "\u001b[2K   \u001b[90m━━━━━━━━━━━━━━━━━━━━━━━━━━━━━━━━━━━━━━━━\u001b[0m \u001b[32m255.2/255.2 kB\u001b[0m \u001b[31m15.7 MB/s\u001b[0m eta \u001b[36m0:00:00\u001b[0m\n",
            "\u001b[2K   \u001b[90m━━━━━━━━━━━━━━━━━━━━━━━━━━━━━━━━━━━━━━━━\u001b[0m \u001b[32m27.5/27.5 MB\u001b[0m \u001b[31m53.2 MB/s\u001b[0m eta \u001b[36m0:00:00\u001b[0m\n",
            "\u001b[2K   \u001b[90m━━━━━━━━━━━━━━━━━━━━━━━━━━━━━━━━━━━━━━━━\u001b[0m \u001b[32m294.5/294.5 kB\u001b[0m \u001b[31m17.3 MB/s\u001b[0m eta \u001b[36m0:00:00\u001b[0m\n",
            "\u001b[2K   \u001b[90m━━━━━━━━━━━━━━━━━━━━━━━━━━━━━━━━━━━━━━━━\u001b[0m \u001b[32m2.1/2.1 MB\u001b[0m \u001b[31m59.1 MB/s\u001b[0m eta \u001b[36m0:00:00\u001b[0m\n",
            "\u001b[2K   \u001b[90m━━━━━━━━━━━━━━━━━━━━━━━━━━━━━━━━━━━━━━━━\u001b[0m \u001b[32m208.1/208.1 kB\u001b[0m \u001b[31m12.3 MB/s\u001b[0m eta \u001b[36m0:00:00\u001b[0m\n",
            "\u001b[2K   \u001b[90m━━━━━━━━━━━━━━━━━━━━━━━━━━━━━━━━━━━━━━━━\u001b[0m \u001b[32m76.4/76.4 kB\u001b[0m \u001b[31m5.2 MB/s\u001b[0m eta \u001b[36m0:00:00\u001b[0m\n",
            "\u001b[2K   \u001b[90m━━━━━━━━━━━━━━━━━━━━━━━━━━━━━━━━━━━━━━━━\u001b[0m \u001b[32m78.0/78.0 kB\u001b[0m \u001b[31m5.3 MB/s\u001b[0m eta \u001b[36m0:00:00\u001b[0m\n",
            "\u001b[2K   \u001b[90m━━━━━━━━━━━━━━━━━━━━━━━━━━━━━━━━━━━━━━━━\u001b[0m \u001b[32m325.2/325.2 kB\u001b[0m \u001b[31m19.7 MB/s\u001b[0m eta \u001b[36m0:00:00\u001b[0m\n",
            "\u001b[2K   \u001b[90m━━━━━━━━━━━━━━━━━━━━━━━━━━━━━━━━━━━━━━━━\u001b[0m \u001b[32m404.4/404.4 kB\u001b[0m \u001b[31m21.5 MB/s\u001b[0m eta \u001b[36m0:00:00\u001b[0m\n",
            "\u001b[2K   \u001b[90m━━━━━━━━━━━━━━━━━━━━━━━━━━━━━━━━━━━━━━━━\u001b[0m \u001b[32m295.8/295.8 kB\u001b[0m \u001b[31m17.8 MB/s\u001b[0m eta \u001b[36m0:00:00\u001b[0m\n",
            "\u001b[2K   \u001b[90m━━━━━━━━━━━━━━━━━━━━━━━━━━━━━━━━━━━━━━━━\u001b[0m \u001b[32m586.9/586.9 kB\u001b[0m \u001b[31m31.6 MB/s\u001b[0m eta \u001b[36m0:00:00\u001b[0m\n",
            "\u001b[2K   \u001b[90m━━━━━━━━━━━━━━━━━━━━━━━━━━━━━━━━━━━━━━━━\u001b[0m \u001b[32m2.3/2.3 MB\u001b[0m \u001b[31m59.6 MB/s\u001b[0m eta \u001b[36m0:00:00\u001b[0m\n",
            "\u001b[2K   \u001b[90m━━━━━━━━━━━━━━━━━━━━━━━━━━━━━━━━━━━━━━━━\u001b[0m \u001b[32m274.7/274.7 kB\u001b[0m \u001b[31m14.1 MB/s\u001b[0m eta \u001b[36m0:00:00\u001b[0m\n",
            "\u001b[2K   \u001b[90m━━━━━━━━━━━━━━━━━━━━━━━━━━━━━━━━━━━━━━━━\u001b[0m \u001b[32m3.1/3.1 MB\u001b[0m \u001b[31m58.2 MB/s\u001b[0m eta \u001b[36m0:00:00\u001b[0m\n",
            "\u001b[2K   \u001b[90m━━━━━━━━━━━━━━━━━━━━━━━━━━━━━━━━━━━━━━━━\u001b[0m \u001b[32m59.7/59.7 kB\u001b[0m \u001b[31m4.1 MB/s\u001b[0m eta \u001b[36m0:00:00\u001b[0m\n",
            "\u001b[2K   \u001b[90m━━━━━━━━━━━━━━━━━━━━━━━━━━━━━━━━━━━━━━━━\u001b[0m \u001b[32m49.3/49.3 kB\u001b[0m \u001b[31m3.1 MB/s\u001b[0m eta \u001b[36m0:00:00\u001b[0m\n",
            "\u001b[2K   \u001b[90m━━━━━━━━━━━━━━━━━━━━━━━━━━━━━━━━━━━━━━━━\u001b[0m \u001b[32m141.9/141.9 kB\u001b[0m \u001b[31m9.5 MB/s\u001b[0m eta \u001b[36m0:00:00\u001b[0m\n",
            "\u001b[2K   \u001b[90m━━━━━━━━━━━━━━━━━━━━━━━━━━━━━━━━━━━━━━━━\u001b[0m \u001b[32m54.5/54.5 kB\u001b[0m \u001b[31m3.6 MB/s\u001b[0m eta \u001b[36m0:00:00\u001b[0m\n",
            "\u001b[2K   \u001b[90m━━━━━━━━━━━━━━━━━━━━━━━━━━━━━━━━━━━━━━━━\u001b[0m \u001b[32m114.6/114.6 kB\u001b[0m \u001b[31m8.3 MB/s\u001b[0m eta \u001b[36m0:00:00\u001b[0m\n",
            "\u001b[2K   \u001b[90m━━━━━━━━━━━━━━━━━━━━━━━━━━━━━━━━━━━━━━━━\u001b[0m \u001b[32m58.3/58.3 kB\u001b[0m \u001b[31m3.7 MB/s\u001b[0m eta \u001b[36m0:00:00\u001b[0m\n",
            "\u001b[?25h  Building wheel for pdfminer (setup.py) ... \u001b[?25l\u001b[?25hdone\n",
            "  Building wheel for langdetect (setup.py) ... \u001b[?25l\u001b[?25hdone\n"
          ]
        }
      ],
      "source": [
        "!pip install openai langchain tiktoken langchain-openai langchain-community sentence_transformers faiss-cpu pypdf langchain_experimental -q"
      ]
    },
    {
      "cell_type": "code",
      "execution_count": null,
      "metadata": {
        "colab": {
          "base_uri": "https://localhost:8080/"
        },
        "id": "-D-OHNTAj930",
        "outputId": "16626117-17a9-4592-8e80-3b284cf4c484"
      },
      "outputs": [
        {
          "name": "stdout",
          "output_type": "stream",
          "text": [
            "/usr/local/lib/python3.10/dist-packages/gdown/__main__.py:140: FutureWarning: Option `--id` was deprecated in version 4.3.1 and will be removed in 5.0. You don't need to pass it anymore to use a file ID.\n",
            "  warnings.warn(\n",
            "Downloading...\n",
            "From (original): https://drive.google.com/uc?id=1V0qfJrdQew6Gf6YsmPG_2JTg41C0YAam\n",
            "From (redirected): https://drive.google.com/uc?id=1V0qfJrdQew6Gf6YsmPG_2JTg41C0YAam&confirm=t&uuid=5d11d886-4028-47de-8f2f-5c2c0b9c8bbc\n",
            "To: /content/utils.py\n",
            "100% 11.3k/11.3k [00:00<00:00, 27.3MB/s]\n"
          ]
        }
      ],
      "source": [
        "!gdown --id 1V0qfJrdQew6Gf6YsmPG_2JTg41C0YAam"
      ]
    },
    {
      "cell_type": "code",
      "execution_count": null,
      "metadata": {
        "id": "PCS_WedHtPRg"
      },
      "outputs": [],
      "source": [
        "from langchain_openai import ChatOpenAI\n",
        "from langchain.docstore.document import Document\n",
        "from langchain_community.document_loaders import PyPDFLoader\n",
        "from langchain.embeddings import HuggingFaceEmbeddings\n",
        "from langchain_experimental.text_splitter import SemanticChunker\n",
        "from langchain.text_splitter import RecursiveCharacterTextSplitter\n",
        "from langchain.vectorstores import FAISS\n",
        "from langchain.schema import StrOutputParser\n",
        "from langchain_core.prompts import ChatPromptTemplate\n",
        "from langchain_core.runnables import RunnablePassthrough\n",
        "import pandas as pd\n",
        "import re\n",
        "\n",
        "pd.set_option('max_colwidth', None)\n",
        "pd.set_option('display.width', None)"
      ]
    },
    {
      "cell_type": "markdown",
      "metadata": {
        "id": "9BrJZgvmhwrO"
      },
      "source": [
        "# Получение ответов сырой языковой модели"
      ]
    },
    {
      "cell_type": "code",
      "execution_count": null,
      "metadata": {
        "id": "SOF6G9wBhtD0"
      },
      "outputs": [],
      "source": [
        "# Инициализация языковой модели\n",
        "llm = ChatOpenAI(\n",
        "                temperature=0.0, \n",
        "                openai_api_key=#<API_KEY>\n",
        "                )\n",
        "\n",
        "# Инициализация цепочки для ответов сырой llm\n",
        "simple_chain = llm | StrOutputParser()"
      ]
    },
    {
      "cell_type": "code",
      "execution_count": null,
      "metadata": {
        "colab": {
          "base_uri": "https://localhost:8080/",
          "height": 804
        },
        "id": "1eAv59823FW2",
        "outputId": "019a065a-41fb-48c2-b418-6e6c702eda36"
      },
      "outputs": [
        {
          "data": {
            "application/vnd.google.colaboratory.intrinsic+json": {
              "repr_error": "Out of range float values are not JSON compliant: nan",
              "type": "dataframe",
              "variable_name": "df"
            },
            "text/html": [
              "\n",
              "  <div id=\"df-b1c8152c-ed89-4617-9b71-dab334de296e\" class=\"colab-df-container\">\n",
              "    <div>\n",
              "<style scoped>\n",
              "    .dataframe tbody tr th:only-of-type {\n",
              "        vertical-align: middle;\n",
              "    }\n",
              "\n",
              "    .dataframe tbody tr th {\n",
              "        vertical-align: top;\n",
              "    }\n",
              "\n",
              "    .dataframe thead th {\n",
              "        text-align: right;\n",
              "    }\n",
              "</style>\n",
              "<table border=\"1\" class=\"dataframe\">\n",
              "  <thead>\n",
              "    <tr style=\"text-align: right;\">\n",
              "      <th></th>\n",
              "      <th>question</th>\n",
              "      <th>llm_answer</th>\n",
              "      <th>rag_answer</th>\n",
              "    </tr>\n",
              "  </thead>\n",
              "  <tbody>\n",
              "    <tr>\n",
              "      <th>0</th>\n",
              "      <td>Какое напутствие дал Петру отец?</td>\n",
              "      <td>Ответ на этот вопрос зависит от контекста и ситуации. Возможно, отец дал Петру различные советы и напутствия в разное время и в разных обстоятельствах. Например, он мог сказать ему быть честным, трудолюбивым, уважать других людей, следовать своим мечтам и стремлениям, быть смелым и настойчивым в достижении целей. Важно помнить, что напутствия отца могут быть разнообразными и зависеть от его собственных ценностей и жизненного опыта.</td>\n",
              "      <td>NaN</td>\n",
              "    </tr>\n",
              "    <tr>\n",
              "      <th>1</th>\n",
              "      <td>Кого убили раздетой на крыльце?</td>\n",
              "      <td>Этот вопрос не имеет конкретного ответа, так как он может относиться к сюжету книги, фильма, игры или другого произведения искусства. Если у вас есть конкретное произведение, к которому относится ваш вопрос, пожалуйста, уточните его для получения более точного ответа.</td>\n",
              "      <td>NaN</td>\n",
              "    </tr>\n",
              "    <tr>\n",
              "      <th>2</th>\n",
              "      <td>Что Петя подарил вожатому?</td>\n",
              "      <td>Петя подарил вожатому книгу \"Путешествие по лесам и горам\".</td>\n",
              "      <td>NaN</td>\n",
              "    </tr>\n",
              "    <tr>\n",
              "      <th>3</th>\n",
              "      <td>Где Маша остановилась в Петербурге?</td>\n",
              "      <td>Маша остановилась в Петербурге в гостинице на Невском проспекте.</td>\n",
              "      <td>NaN</td>\n",
              "    </tr>\n",
              "    <tr>\n",
              "      <th>4</th>\n",
              "      <td>Почему Гринев и Савельич сбились с дороги?</td>\n",
              "      <td>Гринев и Савельич сбились с дороги, вероятно, из-за того, что не смогли правильно ориентироваться или управлять транспортным средством. Возможно, они были отвлечены или находились в состоянии алкогольного или наркотического опьянения. Также возможно, что на дороге были плохие погодные условия или препятствия, которые помешали им двигаться по прямой линии.</td>\n",
              "      <td>NaN</td>\n",
              "    </tr>\n",
              "    <tr>\n",
              "      <th>5</th>\n",
              "      <td>Кто издевался над Машей и морил ее голодом?</td>\n",
              "      <td>Машу издевался и морил голодом ее мачеха.</td>\n",
              "      <td>NaN</td>\n",
              "    </tr>\n",
              "    <tr>\n",
              "      <th>6</th>\n",
              "      <td>Куда приговорили отправить Гринева в ссылку?</td>\n",
              "      <td>Гринева приговорили отправить в ссылку на 12 лет.</td>\n",
              "      <td>NaN</td>\n",
              "    </tr>\n",
              "    <tr>\n",
              "      <th>7</th>\n",
              "      <td>Сколько детей было в семье Петра Гринева?</td>\n",
              "      <td>В семье Петра Гринева было два ребенка - сын Алексей и дочь Наташа.</td>\n",
              "      <td>NaN</td>\n",
              "    </tr>\n",
              "    <tr>\n",
              "      <th>8</th>\n",
              "      <td>Почему Швабрина перевели в крепость?</td>\n",
              "      <td>Швабрина была переведена в крепость вероятно из-за того, что она совершила какое-то серьезное преступление или нарушила правила тюремного учреждения. Перевод в крепость может быть мерой наказания или предосторожности, чтобы предотвратить дальнейшие нарушения со стороны заключенной.</td>\n",
              "      <td>NaN</td>\n",
              "    </tr>\n",
              "    <tr>\n",
              "      <th>9</th>\n",
              "      <td>Сколько казаков попросил Гринев, чтобы очистить крепость?</td>\n",
              "      <td>Гринев попросил 100 казаков, чтобы очистить крепость.</td>\n",
              "      <td>NaN</td>\n",
              "    </tr>\n",
              "    <tr>\n",
              "      <th>10</th>\n",
              "      <td>Как далеко находилась от города Белогорская крепость?</td>\n",
              "      <td>Белогорская крепость находится в городе Ставрополе, Россия. Расстояние от Белогорской крепости до центра города Ставрополя составляет около 5 километров.</td>\n",
              "      <td>NaN</td>\n",
              "    </tr>\n",
              "    <tr>\n",
              "      <th>11</th>\n",
              "      <td>Кого просил пощадить Савельич у Пугачева?</td>\n",
              "      <td>Савельич просил Пугачева пощадить своего хозяина, барина Григория Мироновича.</td>\n",
              "      <td>NaN</td>\n",
              "    </tr>\n",
              "    <tr>\n",
              "      <th>12</th>\n",
              "      <td>Как звали дочку коменданта?</td>\n",
              "      <td>Дочка коменданта называлась Анна.</td>\n",
              "      <td>NaN</td>\n",
              "    </tr>\n",
              "  </tbody>\n",
              "</table>\n",
              "</div>\n",
              "    <div class=\"colab-df-buttons\">\n",
              "\n",
              "  <div class=\"colab-df-container\">\n",
              "    <button class=\"colab-df-convert\" onclick=\"convertToInteractive('df-b1c8152c-ed89-4617-9b71-dab334de296e')\"\n",
              "            title=\"Convert this dataframe to an interactive table.\"\n",
              "            style=\"display:none;\">\n",
              "\n",
              "  <svg xmlns=\"http://www.w3.org/2000/svg\" height=\"24px\" viewBox=\"0 -960 960 960\">\n",
              "    <path d=\"M120-120v-720h720v720H120Zm60-500h600v-160H180v160Zm220 220h160v-160H400v160Zm0 220h160v-160H400v160ZM180-400h160v-160H180v160Zm440 0h160v-160H620v160ZM180-180h160v-160H180v160Zm440 0h160v-160H620v160Z\"/>\n",
              "  </svg>\n",
              "    </button>\n",
              "\n",
              "  <style>\n",
              "    .colab-df-container {\n",
              "      display:flex;\n",
              "      gap: 12px;\n",
              "    }\n",
              "\n",
              "    .colab-df-convert {\n",
              "      background-color: #E8F0FE;\n",
              "      border: none;\n",
              "      border-radius: 50%;\n",
              "      cursor: pointer;\n",
              "      display: none;\n",
              "      fill: #1967D2;\n",
              "      height: 32px;\n",
              "      padding: 0 0 0 0;\n",
              "      width: 32px;\n",
              "    }\n",
              "\n",
              "    .colab-df-convert:hover {\n",
              "      background-color: #E2EBFA;\n",
              "      box-shadow: 0px 1px 2px rgba(60, 64, 67, 0.3), 0px 1px 3px 1px rgba(60, 64, 67, 0.15);\n",
              "      fill: #174EA6;\n",
              "    }\n",
              "\n",
              "    .colab-df-buttons div {\n",
              "      margin-bottom: 4px;\n",
              "    }\n",
              "\n",
              "    [theme=dark] .colab-df-convert {\n",
              "      background-color: #3B4455;\n",
              "      fill: #D2E3FC;\n",
              "    }\n",
              "\n",
              "    [theme=dark] .colab-df-convert:hover {\n",
              "      background-color: #434B5C;\n",
              "      box-shadow: 0px 1px 3px 1px rgba(0, 0, 0, 0.15);\n",
              "      filter: drop-shadow(0px 1px 2px rgba(0, 0, 0, 0.3));\n",
              "      fill: #FFFFFF;\n",
              "    }\n",
              "  </style>\n",
              "\n",
              "    <script>\n",
              "      const buttonEl =\n",
              "        document.querySelector('#df-b1c8152c-ed89-4617-9b71-dab334de296e button.colab-df-convert');\n",
              "      buttonEl.style.display =\n",
              "        google.colab.kernel.accessAllowed ? 'block' : 'none';\n",
              "\n",
              "      async function convertToInteractive(key) {\n",
              "        const element = document.querySelector('#df-b1c8152c-ed89-4617-9b71-dab334de296e');\n",
              "        const dataTable =\n",
              "          await google.colab.kernel.invokeFunction('convertToInteractive',\n",
              "                                                    [key], {});\n",
              "        if (!dataTable) return;\n",
              "\n",
              "        const docLinkHtml = 'Like what you see? Visit the ' +\n",
              "          '<a target=\"_blank\" href=https://colab.research.google.com/notebooks/data_table.ipynb>data table notebook</a>'\n",
              "          + ' to learn more about interactive tables.';\n",
              "        element.innerHTML = '';\n",
              "        dataTable['output_type'] = 'display_data';\n",
              "        await google.colab.output.renderOutput(dataTable, element);\n",
              "        const docLink = document.createElement('div');\n",
              "        docLink.innerHTML = docLinkHtml;\n",
              "        element.appendChild(docLink);\n",
              "      }\n",
              "    </script>\n",
              "  </div>\n",
              "\n",
              "\n",
              "<div id=\"df-c3425ddc-bb48-49ab-bf68-667e2aa278c5\">\n",
              "  <button class=\"colab-df-quickchart\" onclick=\"quickchart('df-c3425ddc-bb48-49ab-bf68-667e2aa278c5')\"\n",
              "            title=\"Suggest charts\"\n",
              "            style=\"display:none;\">\n",
              "\n",
              "<svg xmlns=\"http://www.w3.org/2000/svg\" height=\"24px\"viewBox=\"0 0 24 24\"\n",
              "     width=\"24px\">\n",
              "    <g>\n",
              "        <path d=\"M19 3H5c-1.1 0-2 .9-2 2v14c0 1.1.9 2 2 2h14c1.1 0 2-.9 2-2V5c0-1.1-.9-2-2-2zM9 17H7v-7h2v7zm4 0h-2V7h2v10zm4 0h-2v-4h2v4z\"/>\n",
              "    </g>\n",
              "</svg>\n",
              "  </button>\n",
              "\n",
              "<style>\n",
              "  .colab-df-quickchart {\n",
              "      --bg-color: #E8F0FE;\n",
              "      --fill-color: #1967D2;\n",
              "      --hover-bg-color: #E2EBFA;\n",
              "      --hover-fill-color: #174EA6;\n",
              "      --disabled-fill-color: #AAA;\n",
              "      --disabled-bg-color: #DDD;\n",
              "  }\n",
              "\n",
              "  [theme=dark] .colab-df-quickchart {\n",
              "      --bg-color: #3B4455;\n",
              "      --fill-color: #D2E3FC;\n",
              "      --hover-bg-color: #434B5C;\n",
              "      --hover-fill-color: #FFFFFF;\n",
              "      --disabled-bg-color: #3B4455;\n",
              "      --disabled-fill-color: #666;\n",
              "  }\n",
              "\n",
              "  .colab-df-quickchart {\n",
              "    background-color: var(--bg-color);\n",
              "    border: none;\n",
              "    border-radius: 50%;\n",
              "    cursor: pointer;\n",
              "    display: none;\n",
              "    fill: var(--fill-color);\n",
              "    height: 32px;\n",
              "    padding: 0;\n",
              "    width: 32px;\n",
              "  }\n",
              "\n",
              "  .colab-df-quickchart:hover {\n",
              "    background-color: var(--hover-bg-color);\n",
              "    box-shadow: 0 1px 2px rgba(60, 64, 67, 0.3), 0 1px 3px 1px rgba(60, 64, 67, 0.15);\n",
              "    fill: var(--button-hover-fill-color);\n",
              "  }\n",
              "\n",
              "  .colab-df-quickchart-complete:disabled,\n",
              "  .colab-df-quickchart-complete:disabled:hover {\n",
              "    background-color: var(--disabled-bg-color);\n",
              "    fill: var(--disabled-fill-color);\n",
              "    box-shadow: none;\n",
              "  }\n",
              "\n",
              "  .colab-df-spinner {\n",
              "    border: 2px solid var(--fill-color);\n",
              "    border-color: transparent;\n",
              "    border-bottom-color: var(--fill-color);\n",
              "    animation:\n",
              "      spin 1s steps(1) infinite;\n",
              "  }\n",
              "\n",
              "  @keyframes spin {\n",
              "    0% {\n",
              "      border-color: transparent;\n",
              "      border-bottom-color: var(--fill-color);\n",
              "      border-left-color: var(--fill-color);\n",
              "    }\n",
              "    20% {\n",
              "      border-color: transparent;\n",
              "      border-left-color: var(--fill-color);\n",
              "      border-top-color: var(--fill-color);\n",
              "    }\n",
              "    30% {\n",
              "      border-color: transparent;\n",
              "      border-left-color: var(--fill-color);\n",
              "      border-top-color: var(--fill-color);\n",
              "      border-right-color: var(--fill-color);\n",
              "    }\n",
              "    40% {\n",
              "      border-color: transparent;\n",
              "      border-right-color: var(--fill-color);\n",
              "      border-top-color: var(--fill-color);\n",
              "    }\n",
              "    60% {\n",
              "      border-color: transparent;\n",
              "      border-right-color: var(--fill-color);\n",
              "    }\n",
              "    80% {\n",
              "      border-color: transparent;\n",
              "      border-right-color: var(--fill-color);\n",
              "      border-bottom-color: var(--fill-color);\n",
              "    }\n",
              "    90% {\n",
              "      border-color: transparent;\n",
              "      border-bottom-color: var(--fill-color);\n",
              "    }\n",
              "  }\n",
              "</style>\n",
              "\n",
              "  <script>\n",
              "    async function quickchart(key) {\n",
              "      const quickchartButtonEl =\n",
              "        document.querySelector('#' + key + ' button');\n",
              "      quickchartButtonEl.disabled = true;  // To prevent multiple clicks.\n",
              "      quickchartButtonEl.classList.add('colab-df-spinner');\n",
              "      try {\n",
              "        const charts = await google.colab.kernel.invokeFunction(\n",
              "            'suggestCharts', [key], {});\n",
              "      } catch (error) {\n",
              "        console.error('Error during call to suggestCharts:', error);\n",
              "      }\n",
              "      quickchartButtonEl.classList.remove('colab-df-spinner');\n",
              "      quickchartButtonEl.classList.add('colab-df-quickchart-complete');\n",
              "    }\n",
              "    (() => {\n",
              "      let quickchartButtonEl =\n",
              "        document.querySelector('#df-c3425ddc-bb48-49ab-bf68-667e2aa278c5 button');\n",
              "      quickchartButtonEl.style.display =\n",
              "        google.colab.kernel.accessAllowed ? 'block' : 'none';\n",
              "    })();\n",
              "  </script>\n",
              "</div>\n",
              "    </div>\n",
              "  </div>\n"
            ],
            "text/plain": [
              "                                                     question  \\\n",
              "0                            Какое напутствие дал Петру отец?   \n",
              "1                             Кого убили раздетой на крыльце?   \n",
              "2                                  Что Петя подарил вожатому?   \n",
              "3                         Где Маша остановилась в Петербурге?   \n",
              "4                  Почему Гринев и Савельич сбились с дороги?   \n",
              "5                 Кто издевался над Машей и морил ее голодом?   \n",
              "6                Куда приговорили отправить Гринева в ссылку?   \n",
              "7                   Сколько детей было в семье Петра Гринева?   \n",
              "8                        Почему Швабрина перевели в крепость?   \n",
              "9   Сколько казаков попросил Гринев, чтобы очистить крепость?   \n",
              "10      Как далеко находилась от города Белогорская крепость?   \n",
              "11                  Кого просил пощадить Савельич у Пугачева?   \n",
              "12                                Как звали дочку коменданта?   \n",
              "\n",
              "                                                                                                                                                                                                                                                                                                                                                                                                                                             llm_answer  \\\n",
              "0   Ответ на этот вопрос зависит от контекста и ситуации. Возможно, отец дал Петру различные советы и напутствия в разное время и в разных обстоятельствах. Например, он мог сказать ему быть честным, трудолюбивым, уважать других людей, следовать своим мечтам и стремлениям, быть смелым и настойчивым в достижении целей. Важно помнить, что напутствия отца могут быть разнообразными и зависеть от его собственных ценностей и жизненного опыта.   \n",
              "1                                                                                                                                                                          Этот вопрос не имеет конкретного ответа, так как он может относиться к сюжету книги, фильма, игры или другого произведения искусства. Если у вас есть конкретное произведение, к которому относится ваш вопрос, пожалуйста, уточните его для получения более точного ответа.   \n",
              "2                                                                                                                                                                                                                                                                                                                                                                                           Петя подарил вожатому книгу \"Путешествие по лесам и горам\".   \n",
              "3                                                                                                                                                                                                                                                                                                                                                                                      Маша остановилась в Петербурге в гостинице на Невском проспекте.   \n",
              "4                                                                                 Гринев и Савельич сбились с дороги, вероятно, из-за того, что не смогли правильно ориентироваться или управлять транспортным средством. Возможно, они были отвлечены или находились в состоянии алкогольного или наркотического опьянения. Также возможно, что на дороге были плохие погодные условия или препятствия, которые помешали им двигаться по прямой линии.   \n",
              "5                                                                                                                                                                                                                                                                                                                                                                                                             Машу издевался и морил голодом ее мачеха.   \n",
              "6                                                                                                                                                                                                                                                                                                                                                                                                     Гринева приговорили отправить в ссылку на 12 лет.   \n",
              "7                                                                                                                                                                                                                                                                                                                                                                                   В семье Петра Гринева было два ребенка - сын Алексей и дочь Наташа.   \n",
              "8                                                                                                                                                            Швабрина была переведена в крепость вероятно из-за того, что она совершила какое-то серьезное преступление или нарушила правила тюремного учреждения. Перевод в крепость может быть мерой наказания или предосторожности, чтобы предотвратить дальнейшие нарушения со стороны заключенной.   \n",
              "9                                                                                                                                                                                                                                                                                                                                                                                                 Гринев попросил 100 казаков, чтобы очистить крепость.   \n",
              "10                                                                                                                                                                                                                                                                                            Белогорская крепость находится в городе Ставрополе, Россия. Расстояние от Белогорской крепости до центра города Ставрополя составляет около 5 километров.   \n",
              "11                                                                                                                                                                                                                                                                                                                                                                        Савельич просил Пугачева пощадить своего хозяина, барина Григория Мироновича.   \n",
              "12                                                                                                                                                                                                                                                                                                                                                                                                                    Дочка коменданта называлась Анна.   \n",
              "\n",
              "   rag_answer  \n",
              "0         NaN  \n",
              "1         NaN  \n",
              "2         NaN  \n",
              "3         NaN  \n",
              "4         NaN  \n",
              "5         NaN  \n",
              "6         NaN  \n",
              "7         NaN  \n",
              "8         NaN  \n",
              "9         NaN  \n",
              "10        NaN  \n",
              "11        NaN  \n",
              "12        NaN  "
            ]
          },
          "execution_count": 186,
          "metadata": {},
          "output_type": "execute_result"
        }
      ],
      "source": [
        "# Заполнение датафрема вопросами и ответами llm\n",
        "questions = [\"Какое напутствие дал Петру отец?\",\n",
        "             \"Кого убили раздетой на крыльце?\",\n",
        "             \"Что Петя подарил вожатому?\",\n",
        "             \"Где Маша остановилась в Петербурге?\",\n",
        "             \"Почему Гринев и Савельич сбились с дороги?\",\n",
        "             \"Кто издевался над Машей и морил ее голодом?\",\n",
        "             \"Куда приговорили отправить Гринева в ссылку?\",\n",
        "             \"Сколько детей было в семье Петра Гринева?\",\n",
        "             \"Почему Швабрина перевели в крепость?\",\n",
        "             \"Сколько казаков попросил Гринев, чтобы очистить крепость?\",\n",
        "             \"Как далеко находилась от города Белогорская крепость?\",\n",
        "             \"Кого просил пощадить Савельич у Пугачева?\",\n",
        "             \"Как звали дочку коменданта?\"\n",
        "             ]\n",
        "\n",
        "df = pd.DataFrame(columns=[\"question\", \"llm_answer\", \"rag_answer\"])\n",
        "df.iloc[:, 0] = questions\n",
        "df[\"llm_answer\"] = df[\"question\"].apply(lambda x: simple_chain.invoke(x))\n",
        "df"
      ]
    },
    {
      "cell_type": "markdown",
      "metadata": {
        "id": "qHEsGo2UkI5H"
      },
      "source": [
        "# Реализация RAG"
      ]
    },
    {
      "cell_type": "markdown",
      "metadata": {
        "id": "zDg0bWUhr3dz"
      },
      "source": [
        "\n",
        "<center> <img src='https://github.com/a-milenkin/LLM_practical_course/blob/main/images/RAG.png?raw=1' width=\"800\" height=\"250\">\n"
      ]
    },
    {
      "cell_type": "markdown",
      "metadata": {
        "id": "0eRICp2Lq8s-"
      },
      "source": [
        "## 📥 Загрузка файлов"
      ]
    },
    {
      "cell_type": "code",
      "execution_count": null,
      "metadata": {
        "colab": {
          "base_uri": "https://localhost:8080/"
        },
        "id": "Ej3gsPgri80Q",
        "outputId": "2afb8a36-ff12-4954-fe92-79ca9281f111"
      },
      "outputs": [
        {
          "name": "stdout",
          "output_type": "stream",
          "text": [
            "/usr/local/lib/python3.10/dist-packages/gdown/__main__.py:140: FutureWarning: Option `--id` was deprecated in version 4.3.1 and will be removed in 5.0. You don't need to pass it anymore to use a file ID.\n",
            "  warnings.warn(\n",
            "Downloading...\n",
            "From: https://drive.google.com/uc?id=1oHkOWieg_fGYJRYSGN31l7lAuJYrUq63\n",
            "To: /content/The_Daughter_of_The_Commandant.pdf\n",
            "100% 199k/199k [00:00<00:00, 11.2MB/s]\n"
          ]
        }
      ],
      "source": [
        "!gdown --id 1oHkOWieg_fGYJRYSGN31l7lAuJYrUq63"
      ]
    },
    {
      "cell_type": "code",
      "execution_count": null,
      "metadata": {
        "id": "WOwhANxRr3Ik"
      },
      "outputs": [],
      "source": [
        "# Document loader для pdf\n",
        "loader = PyPDFLoader(\n",
        "    file_path = \"/content/The_Daughter_of_The_Commandant.pdf\",\n",
        "    password = \"\",\n",
        "    extract_images = True,\n",
        ")\n",
        "\n",
        "documents = loader.load()"
      ]
    },
    {
      "cell_type": "markdown",
      "metadata": {
        "id": "F-NdJnUtmckn"
      },
      "source": [
        "## 🧹 Очистка текста"
      ]
    },
    {
      "cell_type": "code",
      "execution_count": null,
      "metadata": {
        "id": "1sayMey_G-1r"
      },
      "outputs": [],
      "source": [
        "def clean_text(text: str) -> str:\n",
        "    '''Очищает текст с помощью регулярных выражений от ссылок, лишних пробелов\n",
        "     и дефисов, форматирует переносы слов на другую строку'''\n",
        "\n",
        "    # Удаление ссылок\n",
        "    text = re.sub(\"www.a4format.ru   \\n\", \"\", text)\n",
        "\n",
        "    # Форматирование переноса слов на другую строку\n",
        "    text = re.sub(r'(\\w+)-\\n(\\w+)', r'\\1\\2', text)\n",
        "\n",
        "    # Заменяем переносы строк, которые не предшествуют \"Глава X\"\n",
        "    text = re.sub(r'\\n(?!Глава)', ' ', text)\n",
        "\n",
        "    # Замена пробелов перед знаками препинания на знак препинания без пробела\n",
        "    text = re.sub(r'\\s+([.,;:!?»)])', r'\\1', text)\n",
        "\n",
        "    # Удаление двойных пробелов\n",
        "    text = re.sub(r'(?<=\\S) {2,}(?=\\S)', ' ', text)\n",
        "\n",
        "    # Удаление лишних дефисов\n",
        "    text = re.sub(r'\\s-\\s', '', text)\n",
        "\n",
        "    return text"
      ]
    },
    {
      "cell_type": "code",
      "execution_count": null,
      "metadata": {
        "colab": {
          "base_uri": "https://localhost:8080/"
        },
        "id": "6qfgiz7ORkag",
        "outputId": "9433e4b4-fb01-4f9c-8f42-a05ff2792ae5"
      },
      "outputs": [
        {
          "name": "stdout",
          "output_type": "stream",
          "text": [
            "Все произведения школьной программы в кратком изложении. — М.: АСТ, 1996. И.О. Родин, Т.М. Пименова Капитанская дочка Краткое содержание  \n",
            "Глава 1 Сержант гвардии  \n",
            "Глава открывается биографией Петра Гринева: отец служил, вышел в отставку, в семье было девять детей, но все, кроме Петра, умерли в младенчестве. Еще до его появления на свет Гринева записали в Семеновский полк. До совершеннолетия он считался в отпуске. Воспитывает мальчика дядька Савельич, под руководством которого Петруша осваивает русскую грамоту и учится судить о достоинствах борзого кобеля. Позже к нему выписывают француза Бопре, который должен был учить мальчика «по-французски, понемецки и другим наукам», но воспитанием Петруши он не занимался, а пил и гулял по девичьим. Отец вскоре обнаруживает это и выгоняет француза. Когда Петру пошел семнадцатый год, отец отправляет его на службу, но не в Петербург, как надеялся сын, а в Оренбург. Напутствуя Петра, отец велит беречь ему «платье снову, а честь смолоду». По приезде в Симбирск Гринев знакомится в трактире с ротмистром Зуриным, который учит его играть на бильярде, спаивает и выигрывает у него сто рублей. Гринев «вел себя, как мальчишка, вырвавшийся на волю». Наутро Зурин требует выигрыш. Желая показать характер, Гринев заставляет Савельича, несмотря на его протесты, выдать деньги и, пристыженный, уезжает из Симбирска. \n",
            "Глава 2 Вожатый По дороге Гринев просит у Савельича прощения за свое глупое поведение. В пути их застает буран. Они сбиваются с дороги. Встречают человека, «сметливость и тонкость чутья» которого поражают Гринева, человек просит проводить их до ближайшего жилья. В кибитке Гриневу снится сон, будто он приезжает в усадьбу, застает отца при смерти. Петр подходит к нему за благословением и видит вместо отца мужика с черной бородой. Мать уверяет Гринева, что это его посаженый отец. Мужик вскакивает, начинает размахивать топором, комната заполняется мертвыми телами. Петру же мужик улыбается и зовет под свое благословение. На постоялом дворе Гринев разглядывает вожатого. «Он был лет сорока, росту среднего, худощав и широкоплеч. В черной бороде его показывалась проседь, живые большие глаза так и бегали. Лицо его имело выражение довольно приятное, но плутовское. Волоса были обстрижены в кружок, на нем был оборванный армяк и татарские шаровары». Вожатый разговаривает с хозяином на «иносказательном языке»: «В огород летал, конопли клевал; швырнула бабушка камешком, да мимо». Гринев подносит вожатому стакан вина, дарит ему заячий тулупчик. Из Оренбурга старый товарищ отца Андрей Карлович Р. направляет Гринева на службу в Белогорскую крепость (40 верст от города). \n",
            "Глава 3 Крепость Крепость похожа на деревушку. Распоряжается всем разумная и добрая жена коменданта, Василиса Егоровна. На другое утро Гринев знакомится с Алексеем Ивановичем Швабриным, молодым офицером «невысокого роста, с лицом смуглым и отменно некрасивым, но чрезвычайно живым». Швабрин переведен в крепость за дуэль. Швабрин рассказывает Гриневу о жизни в крепости, описывает семью коменданта, особенно   2 нелестно отзывается о дочери коменданта Миронова Маше. Швабрин и Гринев приглашены на обед в семью коменданта. По пути Гринев видит «учения»: комендант Иван Кузьмич Миронов командует взводом инвалидов. Сам он при этом одет «в колпаке и китайчатом халате». \n",
            "Глава 4 Поединок Гринев очень привязывается к семейству коменданта. Его производят в офицеры. Гринев много общается со Швабриным, но тот ему нравится все меньше, а особенно его колкие замечания о Маше. Гринев посвящает Маше посредственные любовные стихи. Швабрин резко их критикует, в разговоре с Гриневым оскорбляет Машу. Гринев называет его лжецом, Швабрин требует сатисфакции. Перед дуэлью по приказанию Василисы Егоровны их арестовывают, дворовая девка Палашка даже отнимает у них шпаги. Через некоторое время Гринев узнает от Маши, что Швабрин за нее сватался, а она отказала (этим и объясняется упорное злословие Швабрина в адрес девушки). Дуэль возобновляется, Гринев ранен. \n",
            "Глава 5 Любовь Маша и Савельич ухаживают за раненым. Гринев делает Маше предложение. Пишет письмо родителям. Швабрин приходит навестить Гринева, признает, что сам был виноват. Отец Гринева отказывает сыну в благословении (ему известно и о дуэли, но не от Савельича. Гринев решает, что отцу сообщил Швабрин). Маша избегает Гринева, не хочет свадьбы без согласия родителей. Гринев перестает бывать в доме Мироновых, падает духом. \n",
            "Глава 6 Пугачевщина Комендант получает уведомление о разбойничьей шайке Емельяна Пугачева, нападающей на крепости. Василиса Егоровна все выведывает, и слухи о приступе распространяются по всей крепости. Пугачев призывает противника сдаваться. Одно из воззваний попадает в руки Миронова через пойманного башкирца, у которого нет носа, ушей и языка (последствия пыток). Иван Кузьмич решает отослать Машу из крепости. Маша прощается с Гриневым. Василиса Егоровна отказывается уезжать и остается с мужем. \n",
            "Глава 7 Приступ Ночью казаки уходят из Белогорской крепости под знамена Пугачева. Пугачевцы нападают на крепость. Комендант и немногочисленные защитники крепости обороняются, но силы неравны. Захватив крепость, Пугачев устраивает «суд». Ивана Кузьмича и его товарищей казнят (вешают). Когда очередь доходит до Гринева, Савельич бросается в ноги Пугачеву, умоляя пощадить «барского дитятю», обещает выкуп. Пугачев соглашается. Жители города и гарнизонные солдаты присягают Пугачеву. На крыльцо выводят раздетую Василису Егоровну, убивают ее. Пугачев уезжает. \n",
            "Глава 8 Незваный гость Гринева мучает мысль о судьбе Маши. Ее прячет у себя попадья, от которой Гринев узнает, что Швабрин перешел на сторону Пугачева. Савельич сообщает Гриневу, что узнал в Пугачеве вожатого. Пугачев зовет Гринева к себе. Гринев отправляется. «Все обходились между собою как товарищи и не оказывали никакого особенного предпочтения своему предводителю... Каждый хвастал, предлагал свои мнения и свободно оспори - 3 вал Пугачева». Пугачевцы поют песню про виселицу («Не шуми, мати зеленая дубровушка»). Гости Пугачева расходятся. С глазу на глаз Гринев честно признается, что не считает Пугачева царем. Пугачев: «А разве нет удачи удалому? Разве в старину Гришка Отрепьев не царствовал? Думай про меня, что хочешь, а от меня не отставай». Пугачев отпускает Гринева в Оренбург, несмотря на то, что тот обещает бороться против него. \n",
            "Глава 9 Разлука Пугачев наказывает Гриневу сообщить оренбургскому губернатору, что пугачевцы будут в городе через неделю. Сам Пугачев выезжает из Белогорской крепости, оставляя Швабрина комендантом. Савельич подает Пугачеву «реестр» разграбленного барского добра, Пугачев в «припадке великодушия» оставляет его без внимания и без наказания. Жалует Гриневу лошадь и шубу со своего плеча. Маша заболевает. \n",
            "Глава 10 Осада города Гринев едет в Оренбург к генералу Андрею Карловичу. На военном совете «не было ни одного военного человека». «Все чиновники говорили о ненадежности войск, о неверности удачи, об осторожности и тому подобном. Все полагали, что благоразумнее оставаться под прикрытием пушек за крепкой каменной стеною, нежели на открытом поле, испытывать счастье оружия». Чиновники предлагают подкупить людей Пугачева (назначить за его голову большую цену). Урядник привозит из Белогорской крепости Гриневу письмо от Маши (Швабрин принуждает ее выйти за него замуж). Гринев просит генерала дать ему роту солдат и полсотни казаков, чтобы очистить Белогорскую крепость. Генерал, разумеется, отказывает. \n",
            "Глава 11 Мятежная слобода Гринев и Савельич одни отправляются на помощь Маше. По дороге их хватают люди Пугачева. Пугачев допрашивает Гринева о его намерениях в присутствии наперсников. «Один из них, тщедушный и сгорбленный старичок с седою бородкою, не имел в себе ничего замечательного, кроме голубой ленты, надетой через плечо по серому армяку. Но ввек не забуду его товарища. Он был высокого росту, дороден и широкоплеч, и показался мне лет сорока пяти. Густая рыжая борода, серые сверкающие глаза, нос без ноздрей и красноватые пятна на лбу и на щеках придавали его рябому широкому лицу выражение неизъяснимое». Гринев признается, что едет спасать сироту от притязаний Швабрина. Наперсники предлагают разобраться не только со Швабриным, но и с Гриневым — повесить обоих. Пугачев относится к Гриневу с явной симпатией («долг платежом красен»), обещает женить его на Маше. Утром Гринев в кибитке Пугачева едет в крепость. В доверительной беседе Пугачев говорит ему, что хотел бы пойти на Москву, но «улица моя тесна; воли мне мало. Ребята мои умничают. Они воры. Мне должно держать ухо востро; при первой неудаче они свою шею выкупят моею головою». Пугачев рассказывает Гриневу калмыцкую сказку об орле и вороне (ворон клевал падаль, но жил до 300 лет, а орел был согласен голодать, «лучше раз напиться живой кровью», но падали не есть, «а там — что Бог даст»). \n",
            "Глава 12 Сирота В крепости Пугачев выясняет, что Швабрин издевается над Машей, морит ее голодом. Пугачев «волею государя» освобождает девушку, хочет тут же обвенчать ее  4 с Гриневым. Швабрин выдает, что она дочь капитана Миронова. Пугачев решает, что «казнить, так казнить, жаловать, так жаловать» и отпускает Гринева и Машу. \n",
            "Глава 13 Арест По дороге из крепости солдаты арестовывают Гринева, приняв его за пугачевца, отводят к своему начальнику, который оказываемся Зуриным. По его совету Гринев решает отправить Машу с Савельичем.к своим родителям, а самому продолжать сражаться. «Пугачев был разбит, но не был пойман» и собрал в Сибири новые отряды. Его преследуют, ловят, война заканчивается. Зурин получает приказ арестовать Гринева и отправить его под караулом в Казань в Следственную комиссию по делу Пугачева. \n",
            "Глава 14 Суд По обвинению Швабрина Гринева подозревают в том, что он служил Пугачеву. Гринева приговаривают к ссылке в Сибирь. Родители Гринева очень привязались к Маше. Не желая злоупотреблять их великодушием, Маша едет в Петербург, останавливается в Царском Селе, в саду встречает императрицу и просит о милости к Гриневу, объясняя, что он попал к Пугачеву из-за нее. На аудиенции императрица обещает устроить судьбу Маши и простить Гринева. Гринева освобождают из-под стражи. «Он присутствовал при казни Пугачева, который узнал его в толпе и кивнул ему головой, которая через минуту, мертвая и окровавленная, показана была народу». \n"
          ]
        }
      ],
      "source": [
        "# Объединение всех страниц в один документ с очисткой текста\n",
        "merged_doc = \"\".join([clean_text(doc.page_content) for doc in documents])\n",
        "print(merged_doc)"
      ]
    },
    {
      "cell_type": "markdown",
      "metadata": {
        "id": "GXWSgY6rmr8-"
      },
      "source": [
        "## 🖖 Чанкинг"
      ]
    },
    {
      "cell_type": "markdown",
      "metadata": {
        "id": "mJeWTAXgm8Jo"
      },
      "source": [
        "### Сплиттер по главам"
      ]
    },
    {
      "cell_type": "code",
      "execution_count": null,
      "metadata": {
        "id": "-iP2s_Z8sjtN"
      },
      "outputs": [],
      "source": [
        "class ChapterTextSplitter(RecursiveCharacterTextSplitter):\n",
        "    '''Класс кастомного сплиттера для разделения текста по главам'''\n",
        "    def __init__(self, chunk_size=1000, chunk_overlap=100, separators=None):\n",
        "        super().__init__(chunk_size=chunk_size, chunk_overlap=chunk_overlap, separators=separators)\n",
        "\n",
        "    def split_text(self, text: str) -> list[Document]:\n",
        "        '''Разделение текста по главам с использованием регулярного выражения'''\n",
        "        chapters = re.split(r'(Глава\\s+\\d+)', text)\n",
        "        chunks = []\n",
        "        for i in range(1, len(chapters), 2):\n",
        "            chapter_title = chapters[i]\n",
        "            chapter_text = chapters[i + 1]\n",
        "            chunks.append(chapter_title + \".\" + chapter_text)\n",
        "        return chunks"
      ]
    },
    {
      "cell_type": "code",
      "execution_count": null,
      "metadata": {
        "id": "viwYyD1Is4Pe"
      },
      "outputs": [],
      "source": [
        "# Инициализация кастомного сплиттера\n",
        "chapter_splitter = ChapterTextSplitter(chunk_size=1000, chunk_overlap=100)\n",
        "\n",
        "# Разделение по главам\n",
        "chapters = chapter_splitter.split_text(merged_doc)"
      ]
    },
    {
      "cell_type": "markdown",
      "metadata": {
        "id": "4cEJYA7LkMU-"
      },
      "source": [
        "### Семантический сплиттер"
      ]
    },
    {
      "cell_type": "code",
      "execution_count": null,
      "metadata": {
        "id": "fxI-WeCjmsHG"
      },
      "outputs": [],
      "source": [
        "# Загрузка эмбеддинг модели с HuggingFace\n",
        "hf_embeddings_model = HuggingFaceEmbeddings(\n",
        "    model_name=\"cointegrated/LaBSE-en-ru\", model_kwargs={\"device\": \"cpu\"}\n",
        ")\n",
        "\n",
        "# Инициализация сплиттера\n",
        "semantic_splitter = SemanticChunker(hf_embeddings_model)\n",
        "\n",
        "# Чанкинг\n",
        "split_documents = semantic_splitter.create_documents(chapters)\n",
        "\n",
        "# Удаление пустых чанков\n",
        "split_documents = [document for document in split_documents if document.page_content != \"\"]"
      ]
    },
    {
      "cell_type": "markdown",
      "metadata": {
        "id": "mxBZ5FBMut1j"
      },
      "source": [
        "## 🗂 Vector Store"
      ]
    },
    {
      "cell_type": "code",
      "execution_count": null,
      "metadata": {
        "id": "hRKdQT8QuPPT"
      },
      "outputs": [],
      "source": [
        "# Заполнение векторного хранилища эмбеддингами чанков\n",
        "db = FAISS.from_documents(\n",
        "    split_documents, hf_embeddings_model\n",
        ")\n",
        "\n",
        "# База данных будет сохранена в папке faiss_db\n",
        "db.save_local(\"faiss_db\")"
      ]
    },
    {
      "cell_type": "markdown",
      "metadata": {
        "id": "bHeBYyV-vPmu"
      },
      "source": [
        "## 🎣 Retriever"
      ]
    },
    {
      "cell_type": "code",
      "execution_count": null,
      "metadata": {
        "id": "pcljBDDBvB2s"
      },
      "outputs": [],
      "source": [
        "# Инициализация ретривера\n",
        "retriever = db.as_retriever(\n",
        "    search_kwargs={'k': 7}\n",
        ")"
      ]
    },
    {
      "cell_type": "markdown",
      "metadata": {
        "id": "YzCDWTNdvy_J"
      },
      "source": [
        "## 🔗 RAG Chain: подключение RAG к LLM"
      ]
    },
    {
      "cell_type": "code",
      "execution_count": null,
      "metadata": {
        "id": "119g8AIqvB0x"
      },
      "outputs": [],
      "source": [
        "# Шаблон\n",
        "template = \"\"\"\n",
        "Answer the question based only on the following context:\n",
        "\n",
        "{context}\n",
        "\n",
        "Question: {question}\n",
        "\"\"\"\n",
        "\n",
        "# Промпт из шаблона\n",
        "prompt = ChatPromptTemplate.from_template(template)\n",
        "\n",
        "# Функция для форматирования\n",
        "def format_docs(docs: list[Document]) -> str:\n",
        "    '''Cобирает строку из документов'''\n",
        "    return \"\\n\\n\".join([d.page_content for d in docs])\n",
        "\n",
        "# RAG цепочка\n",
        "chain = (\n",
        "    {\"context\": retriever | format_docs, \"question\": RunnablePassthrough()}\n",
        "    | prompt\n",
        "    | llm\n",
        "    | StrOutputParser()\n",
        ")"
      ]
    },
    {
      "cell_type": "code",
      "execution_count": null,
      "metadata": {
        "colab": {
          "base_uri": "https://localhost:8080/",
          "height": 874
        },
        "id": "X0XSjQnaRmfD",
        "outputId": "7e6589cd-1600-4f85-9b66-63f594f0afa3"
      },
      "outputs": [
        {
          "data": {
            "application/vnd.google.colaboratory.intrinsic+json": {
              "summary": "{\n  \"name\": \"df\",\n  \"rows\": 13,\n  \"fields\": [\n    {\n      \"column\": \"question\",\n      \"properties\": {\n        \"dtype\": \"string\",\n        \"num_unique_values\": 13,\n        \"samples\": [\n          \"\\u041a\\u043e\\u0433\\u043e \\u043f\\u0440\\u043e\\u0441\\u0438\\u043b \\u043f\\u043e\\u0449\\u0430\\u0434\\u0438\\u0442\\u044c \\u0421\\u0430\\u0432\\u0435\\u043b\\u044c\\u0438\\u0447 \\u0443 \\u041f\\u0443\\u0433\\u0430\\u0447\\u0435\\u0432\\u0430?\",\n          \"\\u0421\\u043a\\u043e\\u043b\\u044c\\u043a\\u043e \\u043a\\u0430\\u0437\\u0430\\u043a\\u043e\\u0432 \\u043f\\u043e\\u043f\\u0440\\u043e\\u0441\\u0438\\u043b \\u0413\\u0440\\u0438\\u043d\\u0435\\u0432, \\u0447\\u0442\\u043e\\u0431\\u044b \\u043e\\u0447\\u0438\\u0441\\u0442\\u0438\\u0442\\u044c \\u043a\\u0440\\u0435\\u043f\\u043e\\u0441\\u0442\\u044c?\",\n          \"\\u041a\\u0430\\u043a\\u043e\\u0435 \\u043d\\u0430\\u043f\\u0443\\u0442\\u0441\\u0442\\u0432\\u0438\\u0435 \\u0434\\u0430\\u043b \\u041f\\u0435\\u0442\\u0440\\u0443 \\u043e\\u0442\\u0435\\u0446?\"\n        ],\n        \"semantic_type\": \"\",\n        \"description\": \"\"\n      }\n    },\n    {\n      \"column\": \"llm_answer\",\n      \"properties\": {\n        \"dtype\": \"string\",\n        \"num_unique_values\": 13,\n        \"samples\": [\n          \"\\u0421\\u0430\\u0432\\u0435\\u043b\\u044c\\u0438\\u0447 \\u043f\\u0440\\u043e\\u0441\\u0438\\u043b \\u041f\\u0443\\u0433\\u0430\\u0447\\u0435\\u0432\\u0430 \\u043f\\u043e\\u0449\\u0430\\u0434\\u0438\\u0442\\u044c \\u0441\\u0432\\u043e\\u0435\\u0433\\u043e \\u0445\\u043e\\u0437\\u044f\\u0438\\u043d\\u0430, \\u0431\\u0430\\u0440\\u0438\\u043d\\u0430 \\u0413\\u0440\\u0438\\u0433\\u043e\\u0440\\u0438\\u044f \\u041c\\u0438\\u0440\\u043e\\u043d\\u043e\\u0432\\u0438\\u0447\\u0430.\",\n          \"\\u0413\\u0440\\u0438\\u043d\\u0435\\u0432 \\u043f\\u043e\\u043f\\u0440\\u043e\\u0441\\u0438\\u043b 100 \\u043a\\u0430\\u0437\\u0430\\u043a\\u043e\\u0432, \\u0447\\u0442\\u043e\\u0431\\u044b \\u043e\\u0447\\u0438\\u0441\\u0442\\u0438\\u0442\\u044c \\u043a\\u0440\\u0435\\u043f\\u043e\\u0441\\u0442\\u044c.\",\n          \"\\u041e\\u0442\\u0432\\u0435\\u0442 \\u043d\\u0430 \\u044d\\u0442\\u043e\\u0442 \\u0432\\u043e\\u043f\\u0440\\u043e\\u0441 \\u0437\\u0430\\u0432\\u0438\\u0441\\u0438\\u0442 \\u043e\\u0442 \\u043a\\u043e\\u043d\\u0442\\u0435\\u043a\\u0441\\u0442\\u0430 \\u0438 \\u0441\\u0438\\u0442\\u0443\\u0430\\u0446\\u0438\\u0438. \\u0412\\u043e\\u0437\\u043c\\u043e\\u0436\\u043d\\u043e, \\u043e\\u0442\\u0435\\u0446 \\u0434\\u0430\\u043b \\u041f\\u0435\\u0442\\u0440\\u0443 \\u0440\\u0430\\u0437\\u043b\\u0438\\u0447\\u043d\\u044b\\u0435 \\u0441\\u043e\\u0432\\u0435\\u0442\\u044b \\u0438 \\u043d\\u0430\\u043f\\u0443\\u0442\\u0441\\u0442\\u0432\\u0438\\u044f \\u0432 \\u0440\\u0430\\u0437\\u043d\\u043e\\u0435 \\u0432\\u0440\\u0435\\u043c\\u044f \\u0438 \\u0432 \\u0440\\u0430\\u0437\\u043d\\u044b\\u0445 \\u043e\\u0431\\u0441\\u0442\\u043e\\u044f\\u0442\\u0435\\u043b\\u044c\\u0441\\u0442\\u0432\\u0430\\u0445. \\u041d\\u0430\\u043f\\u0440\\u0438\\u043c\\u0435\\u0440, \\u043e\\u043d \\u043c\\u043e\\u0433 \\u0441\\u043a\\u0430\\u0437\\u0430\\u0442\\u044c \\u0435\\u043c\\u0443 \\u0431\\u044b\\u0442\\u044c \\u0447\\u0435\\u0441\\u0442\\u043d\\u044b\\u043c, \\u0442\\u0440\\u0443\\u0434\\u043e\\u043b\\u044e\\u0431\\u0438\\u0432\\u044b\\u043c, \\u0443\\u0432\\u0430\\u0436\\u0430\\u0442\\u044c \\u0434\\u0440\\u0443\\u0433\\u0438\\u0445 \\u043b\\u044e\\u0434\\u0435\\u0439, \\u0441\\u043b\\u0435\\u0434\\u043e\\u0432\\u0430\\u0442\\u044c \\u0441\\u0432\\u043e\\u0438\\u043c \\u043c\\u0435\\u0447\\u0442\\u0430\\u043c \\u0438 \\u0441\\u0442\\u0440\\u0435\\u043c\\u043b\\u0435\\u043d\\u0438\\u044f\\u043c, \\u0431\\u044b\\u0442\\u044c \\u0441\\u043c\\u0435\\u043b\\u044b\\u043c \\u0438 \\u043d\\u0430\\u0441\\u0442\\u043e\\u0439\\u0447\\u0438\\u0432\\u044b\\u043c \\u0432 \\u0434\\u043e\\u0441\\u0442\\u0438\\u0436\\u0435\\u043d\\u0438\\u0438 \\u0446\\u0435\\u043b\\u0435\\u0439. \\u0412\\u0430\\u0436\\u043d\\u043e \\u043f\\u043e\\u043c\\u043d\\u0438\\u0442\\u044c, \\u0447\\u0442\\u043e \\u043d\\u0430\\u043f\\u0443\\u0442\\u0441\\u0442\\u0432\\u0438\\u044f \\u043e\\u0442\\u0446\\u0430 \\u043c\\u043e\\u0433\\u0443\\u0442 \\u0431\\u044b\\u0442\\u044c \\u0440\\u0430\\u0437\\u043d\\u043e\\u043e\\u0431\\u0440\\u0430\\u0437\\u043d\\u044b\\u043c\\u0438 \\u0438 \\u0437\\u0430\\u0432\\u0438\\u0441\\u0435\\u0442\\u044c \\u043e\\u0442 \\u0435\\u0433\\u043e \\u0441\\u043e\\u0431\\u0441\\u0442\\u0432\\u0435\\u043d\\u043d\\u044b\\u0445 \\u0446\\u0435\\u043d\\u043d\\u043e\\u0441\\u0442\\u0435\\u0439 \\u0438 \\u0436\\u0438\\u0437\\u043d\\u0435\\u043d\\u043d\\u043e\\u0433\\u043e \\u043e\\u043f\\u044b\\u0442\\u0430.\"\n        ],\n        \"semantic_type\": \"\",\n        \"description\": \"\"\n      }\n    },\n    {\n      \"column\": \"rag_answer\",\n      \"properties\": {\n        \"dtype\": \"string\",\n        \"num_unique_values\": 13,\n        \"samples\": [\n          \"\\u0421\\u0430\\u0432\\u0435\\u043b\\u044c\\u0438\\u0447 \\u043f\\u0440\\u043e\\u0441\\u0438\\u043b \\u043f\\u043e\\u0449\\u0430\\u0434\\u0438\\u0442\\u044c \\u0413\\u0440\\u0438\\u043d\\u0435\\u0432\\u0430 \\u0443 \\u041f\\u0443\\u0433\\u0430\\u0447\\u0435\\u0432\\u0430.\",\n          \"\\u0413\\u0440\\u0438\\u043d\\u0435\\u0432 \\u043f\\u043e\\u043f\\u0440\\u043e\\u0441\\u0438\\u043b \\u0433\\u0435\\u043d\\u0435\\u0440\\u0430\\u043b\\u0430 \\u0434\\u0430\\u0442\\u044c \\u0435\\u043c\\u0443 \\u0440\\u043e\\u0442\\u0443 \\u0441\\u043e\\u043b\\u0434\\u0430\\u0442 \\u0438 \\u043f\\u043e\\u043b\\u0441\\u043e\\u0442\\u043d\\u0438 \\u043a\\u0430\\u0437\\u0430\\u043a\\u043e\\u0432, \\u0447\\u0442\\u043e\\u0431\\u044b \\u043e\\u0447\\u0438\\u0441\\u0442\\u0438\\u0442\\u044c \\u0411\\u0435\\u043b\\u043e\\u0433\\u043e\\u0440\\u0441\\u043a\\u0443\\u044e \\u043a\\u0440\\u0435\\u043f\\u043e\\u0441\\u0442\\u044c.\",\n          \"\\u041e\\u0442\\u0435\\u0446 \\u0434\\u0430\\u043b \\u041f\\u0435\\u0442\\u0440\\u0443 \\u043d\\u0430\\u043f\\u0443\\u0442\\u0441\\u0442\\u0432\\u0438\\u0435 \\u0431\\u0435\\u0440\\u0435\\u0447\\u044c \\\"\\u043f\\u043b\\u0430\\u0442\\u044c\\u0435 \\u0441\\u043d\\u043e\\u0432\\u0443, \\u0430 \\u0447\\u0435\\u0441\\u0442\\u044c \\u0441\\u043c\\u043e\\u043b\\u043e\\u0434\\u0443\\\".\"\n        ],\n        \"semantic_type\": \"\",\n        \"description\": \"\"\n      }\n    }\n  ]\n}",
              "type": "dataframe",
              "variable_name": "df"
            },
            "text/html": [
              "\n",
              "  <div id=\"df-dc08c376-42fa-4c82-9189-e00f30d0b1d5\" class=\"colab-df-container\">\n",
              "    <div>\n",
              "<style scoped>\n",
              "    .dataframe tbody tr th:only-of-type {\n",
              "        vertical-align: middle;\n",
              "    }\n",
              "\n",
              "    .dataframe tbody tr th {\n",
              "        vertical-align: top;\n",
              "    }\n",
              "\n",
              "    .dataframe thead th {\n",
              "        text-align: right;\n",
              "    }\n",
              "</style>\n",
              "<table border=\"1\" class=\"dataframe\">\n",
              "  <thead>\n",
              "    <tr style=\"text-align: right;\">\n",
              "      <th></th>\n",
              "      <th>question</th>\n",
              "      <th>llm_answer</th>\n",
              "      <th>rag_answer</th>\n",
              "    </tr>\n",
              "  </thead>\n",
              "  <tbody>\n",
              "    <tr>\n",
              "      <th>0</th>\n",
              "      <td>Какое напутствие дал Петру отец?</td>\n",
              "      <td>Ответ на этот вопрос зависит от контекста и ситуации. Возможно, отец дал Петру различные советы и напутствия в разное время и в разных обстоятельствах. Например, он мог сказать ему быть честным, трудолюбивым, уважать других людей, следовать своим мечтам и стремлениям, быть смелым и настойчивым в достижении целей. Важно помнить, что напутствия отца могут быть разнообразными и зависеть от его собственных ценностей и жизненного опыта.</td>\n",
              "      <td>Отец дал Петру напутствие беречь \"платье снову, а честь смолоду\".</td>\n",
              "    </tr>\n",
              "    <tr>\n",
              "      <th>1</th>\n",
              "      <td>Кого убили раздетой на крыльце?</td>\n",
              "      <td>Этот вопрос не имеет конкретного ответа, так как он может относиться к сюжету книги, фильма, игры или другого произведения искусства. Если у вас есть конкретное произведение, к которому относится ваш вопрос, пожалуйста, уточните его для получения более точного ответа.</td>\n",
              "      <td>Василису Егоровну.</td>\n",
              "    </tr>\n",
              "    <tr>\n",
              "      <th>2</th>\n",
              "      <td>Что Петя подарил вожатому?</td>\n",
              "      <td>Петя подарил вожатому книгу \"Путешествие по лесам и горам\".</td>\n",
              "      <td>Петя подарил вожатому заячий тулупчик.</td>\n",
              "    </tr>\n",
              "    <tr>\n",
              "      <th>3</th>\n",
              "      <td>Где Маша остановилась в Петербурге?</td>\n",
              "      <td>Маша остановилась в Петербурге в гостинице на Невском проспекте.</td>\n",
              "      <td>Маша остановилась в Царском Селе в Петербурге.</td>\n",
              "    </tr>\n",
              "    <tr>\n",
              "      <th>4</th>\n",
              "      <td>Почему Гринев и Савельич сбились с дороги?</td>\n",
              "      <td>Гринев и Савельич сбились с дороги, вероятно, из-за того, что не смогли правильно ориентироваться или управлять транспортным средством. Возможно, они были отвлечены или находились в состоянии алкогольного или наркотического опьянения. Также возможно, что на дороге были плохие погодные условия или препятствия, которые помешали им двигаться по прямой линии.</td>\n",
              "      <td>Гринев и Савельич сбились с дороги из-за бурана, который застал их в пути.</td>\n",
              "    </tr>\n",
              "    <tr>\n",
              "      <th>5</th>\n",
              "      <td>Кто издевался над Машей и морил ее голодом?</td>\n",
              "      <td>Машу издевался и морил голодом ее мачеха.</td>\n",
              "      <td>Швабрин издевался над Машей и морил ее голодом.</td>\n",
              "    </tr>\n",
              "    <tr>\n",
              "      <th>6</th>\n",
              "      <td>Куда приговорили отправить Гринева в ссылку?</td>\n",
              "      <td>Гринева приговорили отправить в ссылку на 12 лет.</td>\n",
              "      <td>Гринева приговорили отправить в ссылку в Сибирь.</td>\n",
              "    </tr>\n",
              "    <tr>\n",
              "      <th>7</th>\n",
              "      <td>Сколько детей было в семье Петра Гринева?</td>\n",
              "      <td>В семье Петра Гринева было два ребенка - сын Алексей и дочь Наташа.</td>\n",
              "      <td>В семье Петра Гринева было девять детей, но все, кроме Петра, умерли в младенчестве.</td>\n",
              "    </tr>\n",
              "    <tr>\n",
              "      <th>8</th>\n",
              "      <td>Почему Швабрина перевели в крепость?</td>\n",
              "      <td>Швабрина была переведена в крепость вероятно из-за того, что она совершила какое-то серьезное преступление или нарушила правила тюремного учреждения. Перевод в крепость может быть мерой наказания или предосторожности, чтобы предотвратить дальнейшие нарушения со стороны заключенной.</td>\n",
              "      <td>Швабрина перевели в крепость за дуэль.</td>\n",
              "    </tr>\n",
              "    <tr>\n",
              "      <th>9</th>\n",
              "      <td>Сколько казаков попросил Гринев, чтобы очистить крепость?</td>\n",
              "      <td>Гринев попросил 100 казаков, чтобы очистить крепость.</td>\n",
              "      <td>Гринев попросил генерала дать ему роту солдат и полсотни казаков, чтобы очистить Белогорскую крепость.</td>\n",
              "    </tr>\n",
              "    <tr>\n",
              "      <th>10</th>\n",
              "      <td>Как далеко находилась от города Белогорская крепость?</td>\n",
              "      <td>Белогорская крепость находится в городе Ставрополе, Россия. Расстояние от Белогорской крепости до центра города Ставрополя составляет около 5 километров.</td>\n",
              "      <td>Белогорская крепость находилась в 40 верстах от города.</td>\n",
              "    </tr>\n",
              "    <tr>\n",
              "      <th>11</th>\n",
              "      <td>Кого просил пощадить Савельич у Пугачева?</td>\n",
              "      <td>Савельич просил Пугачева пощадить своего хозяина, барина Григория Мироновича.</td>\n",
              "      <td>Савельич просил пощадить Гринева у Пугачева.</td>\n",
              "    </tr>\n",
              "    <tr>\n",
              "      <th>12</th>\n",
              "      <td>Как звали дочку коменданта?</td>\n",
              "      <td>Дочка коменданта называлась Анна.</td>\n",
              "      <td>Дочь коменданта звали Маша.</td>\n",
              "    </tr>\n",
              "  </tbody>\n",
              "</table>\n",
              "</div>\n",
              "    <div class=\"colab-df-buttons\">\n",
              "\n",
              "  <div class=\"colab-df-container\">\n",
              "    <button class=\"colab-df-convert\" onclick=\"convertToInteractive('df-dc08c376-42fa-4c82-9189-e00f30d0b1d5')\"\n",
              "            title=\"Convert this dataframe to an interactive table.\"\n",
              "            style=\"display:none;\">\n",
              "\n",
              "  <svg xmlns=\"http://www.w3.org/2000/svg\" height=\"24px\" viewBox=\"0 -960 960 960\">\n",
              "    <path d=\"M120-120v-720h720v720H120Zm60-500h600v-160H180v160Zm220 220h160v-160H400v160Zm0 220h160v-160H400v160ZM180-400h160v-160H180v160Zm440 0h160v-160H620v160ZM180-180h160v-160H180v160Zm440 0h160v-160H620v160Z\"/>\n",
              "  </svg>\n",
              "    </button>\n",
              "\n",
              "  <style>\n",
              "    .colab-df-container {\n",
              "      display:flex;\n",
              "      gap: 12px;\n",
              "    }\n",
              "\n",
              "    .colab-df-convert {\n",
              "      background-color: #E8F0FE;\n",
              "      border: none;\n",
              "      border-radius: 50%;\n",
              "      cursor: pointer;\n",
              "      display: none;\n",
              "      fill: #1967D2;\n",
              "      height: 32px;\n",
              "      padding: 0 0 0 0;\n",
              "      width: 32px;\n",
              "    }\n",
              "\n",
              "    .colab-df-convert:hover {\n",
              "      background-color: #E2EBFA;\n",
              "      box-shadow: 0px 1px 2px rgba(60, 64, 67, 0.3), 0px 1px 3px 1px rgba(60, 64, 67, 0.15);\n",
              "      fill: #174EA6;\n",
              "    }\n",
              "\n",
              "    .colab-df-buttons div {\n",
              "      margin-bottom: 4px;\n",
              "    }\n",
              "\n",
              "    [theme=dark] .colab-df-convert {\n",
              "      background-color: #3B4455;\n",
              "      fill: #D2E3FC;\n",
              "    }\n",
              "\n",
              "    [theme=dark] .colab-df-convert:hover {\n",
              "      background-color: #434B5C;\n",
              "      box-shadow: 0px 1px 3px 1px rgba(0, 0, 0, 0.15);\n",
              "      filter: drop-shadow(0px 1px 2px rgba(0, 0, 0, 0.3));\n",
              "      fill: #FFFFFF;\n",
              "    }\n",
              "  </style>\n",
              "\n",
              "    <script>\n",
              "      const buttonEl =\n",
              "        document.querySelector('#df-dc08c376-42fa-4c82-9189-e00f30d0b1d5 button.colab-df-convert');\n",
              "      buttonEl.style.display =\n",
              "        google.colab.kernel.accessAllowed ? 'block' : 'none';\n",
              "\n",
              "      async function convertToInteractive(key) {\n",
              "        const element = document.querySelector('#df-dc08c376-42fa-4c82-9189-e00f30d0b1d5');\n",
              "        const dataTable =\n",
              "          await google.colab.kernel.invokeFunction('convertToInteractive',\n",
              "                                                    [key], {});\n",
              "        if (!dataTable) return;\n",
              "\n",
              "        const docLinkHtml = 'Like what you see? Visit the ' +\n",
              "          '<a target=\"_blank\" href=https://colab.research.google.com/notebooks/data_table.ipynb>data table notebook</a>'\n",
              "          + ' to learn more about interactive tables.';\n",
              "        element.innerHTML = '';\n",
              "        dataTable['output_type'] = 'display_data';\n",
              "        await google.colab.output.renderOutput(dataTable, element);\n",
              "        const docLink = document.createElement('div');\n",
              "        docLink.innerHTML = docLinkHtml;\n",
              "        element.appendChild(docLink);\n",
              "      }\n",
              "    </script>\n",
              "  </div>\n",
              "\n",
              "\n",
              "<div id=\"df-8e049ef6-20d2-4ae3-ac21-bd2d41f4a821\">\n",
              "  <button class=\"colab-df-quickchart\" onclick=\"quickchart('df-8e049ef6-20d2-4ae3-ac21-bd2d41f4a821')\"\n",
              "            title=\"Suggest charts\"\n",
              "            style=\"display:none;\">\n",
              "\n",
              "<svg xmlns=\"http://www.w3.org/2000/svg\" height=\"24px\"viewBox=\"0 0 24 24\"\n",
              "     width=\"24px\">\n",
              "    <g>\n",
              "        <path d=\"M19 3H5c-1.1 0-2 .9-2 2v14c0 1.1.9 2 2 2h14c1.1 0 2-.9 2-2V5c0-1.1-.9-2-2-2zM9 17H7v-7h2v7zm4 0h-2V7h2v10zm4 0h-2v-4h2v4z\"/>\n",
              "    </g>\n",
              "</svg>\n",
              "  </button>\n",
              "\n",
              "<style>\n",
              "  .colab-df-quickchart {\n",
              "      --bg-color: #E8F0FE;\n",
              "      --fill-color: #1967D2;\n",
              "      --hover-bg-color: #E2EBFA;\n",
              "      --hover-fill-color: #174EA6;\n",
              "      --disabled-fill-color: #AAA;\n",
              "      --disabled-bg-color: #DDD;\n",
              "  }\n",
              "\n",
              "  [theme=dark] .colab-df-quickchart {\n",
              "      --bg-color: #3B4455;\n",
              "      --fill-color: #D2E3FC;\n",
              "      --hover-bg-color: #434B5C;\n",
              "      --hover-fill-color: #FFFFFF;\n",
              "      --disabled-bg-color: #3B4455;\n",
              "      --disabled-fill-color: #666;\n",
              "  }\n",
              "\n",
              "  .colab-df-quickchart {\n",
              "    background-color: var(--bg-color);\n",
              "    border: none;\n",
              "    border-radius: 50%;\n",
              "    cursor: pointer;\n",
              "    display: none;\n",
              "    fill: var(--fill-color);\n",
              "    height: 32px;\n",
              "    padding: 0;\n",
              "    width: 32px;\n",
              "  }\n",
              "\n",
              "  .colab-df-quickchart:hover {\n",
              "    background-color: var(--hover-bg-color);\n",
              "    box-shadow: 0 1px 2px rgba(60, 64, 67, 0.3), 0 1px 3px 1px rgba(60, 64, 67, 0.15);\n",
              "    fill: var(--button-hover-fill-color);\n",
              "  }\n",
              "\n",
              "  .colab-df-quickchart-complete:disabled,\n",
              "  .colab-df-quickchart-complete:disabled:hover {\n",
              "    background-color: var(--disabled-bg-color);\n",
              "    fill: var(--disabled-fill-color);\n",
              "    box-shadow: none;\n",
              "  }\n",
              "\n",
              "  .colab-df-spinner {\n",
              "    border: 2px solid var(--fill-color);\n",
              "    border-color: transparent;\n",
              "    border-bottom-color: var(--fill-color);\n",
              "    animation:\n",
              "      spin 1s steps(1) infinite;\n",
              "  }\n",
              "\n",
              "  @keyframes spin {\n",
              "    0% {\n",
              "      border-color: transparent;\n",
              "      border-bottom-color: var(--fill-color);\n",
              "      border-left-color: var(--fill-color);\n",
              "    }\n",
              "    20% {\n",
              "      border-color: transparent;\n",
              "      border-left-color: var(--fill-color);\n",
              "      border-top-color: var(--fill-color);\n",
              "    }\n",
              "    30% {\n",
              "      border-color: transparent;\n",
              "      border-left-color: var(--fill-color);\n",
              "      border-top-color: var(--fill-color);\n",
              "      border-right-color: var(--fill-color);\n",
              "    }\n",
              "    40% {\n",
              "      border-color: transparent;\n",
              "      border-right-color: var(--fill-color);\n",
              "      border-top-color: var(--fill-color);\n",
              "    }\n",
              "    60% {\n",
              "      border-color: transparent;\n",
              "      border-right-color: var(--fill-color);\n",
              "    }\n",
              "    80% {\n",
              "      border-color: transparent;\n",
              "      border-right-color: var(--fill-color);\n",
              "      border-bottom-color: var(--fill-color);\n",
              "    }\n",
              "    90% {\n",
              "      border-color: transparent;\n",
              "      border-bottom-color: var(--fill-color);\n",
              "    }\n",
              "  }\n",
              "</style>\n",
              "\n",
              "  <script>\n",
              "    async function quickchart(key) {\n",
              "      const quickchartButtonEl =\n",
              "        document.querySelector('#' + key + ' button');\n",
              "      quickchartButtonEl.disabled = true;  // To prevent multiple clicks.\n",
              "      quickchartButtonEl.classList.add('colab-df-spinner');\n",
              "      try {\n",
              "        const charts = await google.colab.kernel.invokeFunction(\n",
              "            'suggestCharts', [key], {});\n",
              "      } catch (error) {\n",
              "        console.error('Error during call to suggestCharts:', error);\n",
              "      }\n",
              "      quickchartButtonEl.classList.remove('colab-df-spinner');\n",
              "      quickchartButtonEl.classList.add('colab-df-quickchart-complete');\n",
              "    }\n",
              "    (() => {\n",
              "      let quickchartButtonEl =\n",
              "        document.querySelector('#df-8e049ef6-20d2-4ae3-ac21-bd2d41f4a821 button');\n",
              "      quickchartButtonEl.style.display =\n",
              "        google.colab.kernel.accessAllowed ? 'block' : 'none';\n",
              "    })();\n",
              "  </script>\n",
              "</div>\n",
              "    </div>\n",
              "  </div>\n"
            ],
            "text/plain": [
              "                                                     question  \\\n",
              "0                            Какое напутствие дал Петру отец?   \n",
              "1                             Кого убили раздетой на крыльце?   \n",
              "2                                  Что Петя подарил вожатому?   \n",
              "3                         Где Маша остановилась в Петербурге?   \n",
              "4                  Почему Гринев и Савельич сбились с дороги?   \n",
              "5                 Кто издевался над Машей и морил ее голодом?   \n",
              "6                Куда приговорили отправить Гринева в ссылку?   \n",
              "7                   Сколько детей было в семье Петра Гринева?   \n",
              "8                        Почему Швабрина перевели в крепость?   \n",
              "9   Сколько казаков попросил Гринев, чтобы очистить крепость?   \n",
              "10      Как далеко находилась от города Белогорская крепость?   \n",
              "11                  Кого просил пощадить Савельич у Пугачева?   \n",
              "12                                Как звали дочку коменданта?   \n",
              "\n",
              "                                                                                                                                                                                                                                                                                                                                                                                                                                             llm_answer  \\\n",
              "0   Ответ на этот вопрос зависит от контекста и ситуации. Возможно, отец дал Петру различные советы и напутствия в разное время и в разных обстоятельствах. Например, он мог сказать ему быть честным, трудолюбивым, уважать других людей, следовать своим мечтам и стремлениям, быть смелым и настойчивым в достижении целей. Важно помнить, что напутствия отца могут быть разнообразными и зависеть от его собственных ценностей и жизненного опыта.   \n",
              "1                                                                                                                                                                          Этот вопрос не имеет конкретного ответа, так как он может относиться к сюжету книги, фильма, игры или другого произведения искусства. Если у вас есть конкретное произведение, к которому относится ваш вопрос, пожалуйста, уточните его для получения более точного ответа.   \n",
              "2                                                                                                                                                                                                                                                                                                                                                                                           Петя подарил вожатому книгу \"Путешествие по лесам и горам\".   \n",
              "3                                                                                                                                                                                                                                                                                                                                                                                      Маша остановилась в Петербурге в гостинице на Невском проспекте.   \n",
              "4                                                                                 Гринев и Савельич сбились с дороги, вероятно, из-за того, что не смогли правильно ориентироваться или управлять транспортным средством. Возможно, они были отвлечены или находились в состоянии алкогольного или наркотического опьянения. Также возможно, что на дороге были плохие погодные условия или препятствия, которые помешали им двигаться по прямой линии.   \n",
              "5                                                                                                                                                                                                                                                                                                                                                                                                             Машу издевался и морил голодом ее мачеха.   \n",
              "6                                                                                                                                                                                                                                                                                                                                                                                                     Гринева приговорили отправить в ссылку на 12 лет.   \n",
              "7                                                                                                                                                                                                                                                                                                                                                                                   В семье Петра Гринева было два ребенка - сын Алексей и дочь Наташа.   \n",
              "8                                                                                                                                                            Швабрина была переведена в крепость вероятно из-за того, что она совершила какое-то серьезное преступление или нарушила правила тюремного учреждения. Перевод в крепость может быть мерой наказания или предосторожности, чтобы предотвратить дальнейшие нарушения со стороны заключенной.   \n",
              "9                                                                                                                                                                                                                                                                                                                                                                                                 Гринев попросил 100 казаков, чтобы очистить крепость.   \n",
              "10                                                                                                                                                                                                                                                                                            Белогорская крепость находится в городе Ставрополе, Россия. Расстояние от Белогорской крепости до центра города Ставрополя составляет около 5 километров.   \n",
              "11                                                                                                                                                                                                                                                                                                                                                                        Савельич просил Пугачева пощадить своего хозяина, барина Григория Мироновича.   \n",
              "12                                                                                                                                                                                                                                                                                                                                                                                                                    Дочка коменданта называлась Анна.   \n",
              "\n",
              "                                                                                                rag_answer  \n",
              "0                                        Отец дал Петру напутствие беречь \"платье снову, а честь смолоду\".  \n",
              "1                                                                                       Василису Егоровну.  \n",
              "2                                                                   Петя подарил вожатому заячий тулупчик.  \n",
              "3                                                           Маша остановилась в Царском Селе в Петербурге.  \n",
              "4                               Гринев и Савельич сбились с дороги из-за бурана, который застал их в пути.  \n",
              "5                                                          Швабрин издевался над Машей и морил ее голодом.  \n",
              "6                                                         Гринева приговорили отправить в ссылку в Сибирь.  \n",
              "7                     В семье Петра Гринева было девять детей, но все, кроме Петра, умерли в младенчестве.  \n",
              "8                                                                   Швабрина перевели в крепость за дуэль.  \n",
              "9   Гринев попросил генерала дать ему роту солдат и полсотни казаков, чтобы очистить Белогорскую крепость.  \n",
              "10                                                 Белогорская крепость находилась в 40 верстах от города.  \n",
              "11                                                            Савельич просил пощадить Гринева у Пугачева.  \n",
              "12                                                                             Дочь коменданта звали Маша.  "
            ]
          },
          "execution_count": 191,
          "metadata": {},
          "output_type": "execute_result"
        }
      ],
      "source": [
        "# Заполнение датафрейма ответами llm, использующей RAG\n",
        "df[\"rag_answer\"] = df[\"question\"].apply(lambda x: chain.invoke(x))\n",
        "df"
      ]
    },
    {
      "cell_type": "markdown",
      "metadata": {
        "id": "JF9wGozgvV1h"
      },
      "source": [
        "# Заключение"
      ]
    },
    {
      "cell_type": "markdown",
      "metadata": {
        "id": "yPhDAR-qvZQ1"
      },
      "source": [
        "*   Можно заметить, что в отличии от абсолютно неверных ответов сырой llm, RAG показал себя отлично, без единой фактической ошибки;\n",
        "\n",
        "*   P.S. Даже если сырой llm указать, что ответ надо давать по произведению  «Капитанская дочка», она всё равно путается в фактах и начинает галлюцинировать."
      ]
    },
    {
      "cell_type": "markdown",
      "metadata": {
        "id": "1EKupAokQr9a"
      },
      "source": [
        "# Что не понадобилось, но можно было бы сделать для улучшения ответов?"
      ]
    },
    {
      "cell_type": "markdown",
      "metadata": {
        "id": "gSeVlpUvQ2pm"
      },
      "source": [
        "*   Rag Fusion. Идея в том, чтобы попросить LLM дать несколько вариантов вопроса пользователя, сделать по ним поиск, а затем объединить результаты, предварительно отранжировав их с помощью, например, Cross Encoder. Cross Encoder работает довольно медленно, но дает более релевантные результаты, поэтому для поиска информации в базе данных его использовать не практично, однако для ранжирования списка найденных результатов - вполне;\n",
        "*   Ансамбль ретриверов. Ансамблинг особенно полезен при обьединении sparse ретриверов (хорошо работающих при совпадении слов, например, BM25) и dense ретриверов (работающих на основе embdedding similarity, например, те же векторные базы), т.к. они отлично дополняют друг друга;\n",
        "*   Ансамбль с графовым подходом. Не одним RAG'ом едины :) Для ансамблирования результатов, можно использовать question-answering, построенный на графе знаний. Пример такого подхода можно можно посмотреть в [моем проекте](https://github.com/Goressii/QA-Knowledge_Graph).\n",
        "*   Fine-tuning больших языковых моделей, используя адаптеры, например, LoRA. Хоть в этом случае знания и хранятся в весах модели, и можно получить более консистентные результаты генерации, однако есть ряд ньюансов по сравнению с RAG. Важно собрать качественные данные, нужно больше ресурсов и времени на обучение, необходимо переучивать при переходе на другую модель, и постоянно дообучать для часто изменяющихся данных. Модель после файнтюнинга можно использовать в связке с RAG, тогда получится Retrieval-Augmented Fine-Tuning (RAFT);\n",
        "*   Более сложные техники, такие как Corrective Retrieval-Augmented Generation (CRAG), self-RAG, Hypothetical Document Embeddings (HyDe) и т.д."
      ]
    }
  ],
  "metadata": {
    "colab": {
      "provenance": []
    },
    "kernelspec": {
      "display_name": "Python 3",
      "name": "python3"
    },
    "language_info": {
      "name": "python"
    }
  },
  "nbformat": 4,
  "nbformat_minor": 0
}
